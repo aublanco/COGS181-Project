{
 "cells": [
  {
   "cell_type": "code",
   "execution_count": 1,
   "metadata": {},
   "outputs": [],
   "source": [
    "import os\n",
    "import torch\n",
    "import torch.nn as nn\n",
    "import torch.optim as optim\n",
    "from torch.utils.data import Dataset, DataLoader\n",
    "from torchvision import datasets, models, transforms\n",
    "import torch.optim.lr_scheduler as lr_scheduler\n",
    "import matplotlib.pyplot as plt\n",
    "from tqdm import tqdm\n",
    "from PIL import Image\n",
    "import matplotlib.pyplot as plt\n",
    "import numpy as np"
   ]
  },
  {
   "cell_type": "code",
   "execution_count": null,
   "metadata": {},
   "outputs": [
    {
     "name": "stdout",
     "output_type": "stream",
     "text": [
      "cuda\n"
     ]
    }
   ],
   "source": [
    "device = torch.device(\"cuda\" if torch.cuda.is_available() else \"cpu\")\n",
    "print(device)"
   ]
  },
  {
   "cell_type": "code",
   "execution_count": 3,
   "metadata": {},
   "outputs": [
    {
     "name": "stdout",
     "output_type": "stream",
     "text": [
      "Folders found: ['n01443537', 'n01629819', 'n01641577', 'n01644900', 'n01698640', 'n01742172', 'n01768244', 'n01770393', 'n01774384', 'n01774750', 'n01784675', 'n01855672', 'n01882714', 'n01910747', 'n01917289', 'n01944390', 'n01945685', 'n01950731', 'n01983481', 'n01984695', 'n02002724', 'n02056570', 'n02058221', 'n02074367', 'n02085620', 'n02094433', 'n02099601', 'n02099712', 'n02106662', 'n02113799', 'n02123045', 'n02123394', 'n02124075', 'n02125311', 'n02129165', 'n02132136', 'n02165456', 'n02190166', 'n02206856', 'n02226429', 'n02231487', 'n02233338', 'n02236044', 'n02268443', 'n02279972', 'n02281406', 'n02321529', 'n02364673', 'n02395406', 'n02403003', 'n02410509', 'n02415577', 'n02423022', 'n02437312', 'n02480495', 'n02481823', 'n02486410', 'n02504458', 'n02509815', 'n02666196', 'n02669723', 'n02699494', 'n02730930', 'n02769748', 'n02788148', 'n02791270', 'n02793495', 'n02795169', 'n02802426', 'n02808440', 'n02814533', 'n02814860', 'n02815834', 'n02823428', 'n02837789', 'n02841315', 'n02843684', 'n02883205', 'n02892201', 'n02906734', 'n02909870', 'n02917067', 'n02927161', 'n02948072', 'n02950826', 'n02963159', 'n02977058', 'n02988304', 'n02999410', 'n03014705', 'n03026506', 'n03042490', 'n03085013', 'n03089624', 'n03100240', 'n03126707', 'n03160309', 'n03179701', 'n03201208', 'n03250847', 'n03255030', 'n03355925', 'n03388043', 'n03393912', 'n03400231', 'n03404251', 'n03424325', 'n03444034', 'n03447447', 'n03544143', 'n03584254', 'n03599486', 'n03617480', 'n03637318', 'n03649909', 'n03662601', 'n03670208', 'n03706229', 'n03733131', 'n03763968', 'n03770439', 'n03796401', 'n03804744', 'n03814639', 'n03837869', 'n03838899', 'n03854065', 'n03891332', 'n03902125', 'n03930313', 'n03937543', 'n03970156', 'n03976657', 'n03977966', 'n03980874', 'n03983396', 'n03992509', 'n04008634', 'n04023962', 'n04067472', 'n04070727', 'n04074963', 'n04099969', 'n04118538', 'n04133789', 'n04146614', 'n04149813', 'n04179913', 'n04251144', 'n04254777', 'n04259630', 'n04265275', 'n04275548', 'n04285008', 'n04311004', 'n04328186', 'n04356056', 'n04366367', 'n04371430', 'n04376876', 'n04398044', 'n04399382', 'n04417672', 'n04456115', 'n04465501', 'n04486054', 'n04487081', 'n04501370', 'n04507155', 'n04532106', 'n04532670', 'n04540053', 'n04560804', 'n04562935', 'n04596742', 'n04597913', 'n06596364', 'n07579787', 'n07583066', 'n07614500', 'n07615774', 'n07695742', 'n07711569', 'n07715103', 'n07720875', 'n07734744', 'n07747607', 'n07749582', 'n07753592', 'n07768694', 'n07871810', 'n07873807', 'n07875152', 'n07920052', 'n09193705', 'n09246464', 'n09256479', 'n09332890', 'n09428293', 'n12267677']\n",
      "Number of classes: 200\n"
     ]
    }
   ],
   "source": [
    "train_transforms = transforms.Compose([\n",
    "    transforms.Resize((256, 256)), \n",
    "    transforms.RandomResizedCrop(224),\n",
    "    transforms.RandomHorizontalFlip(),\n",
    "    transforms.ToTensor(),\n",
    "    transforms.Normalize([0.485, 0.456, 0.406],\n",
    "                         [0.229, 0.224, 0.225])\n",
    "])\n",
    "train_dataset = datasets.ImageFolder('./tiny-imagenet-200/train', transform=train_transforms)\n",
    "train_dir = './tiny-imagenet-200/train'\n",
    "classes = os.listdir(train_dir)\n",
    "print(\"Folders found:\", classes)\n",
    "print(\"Number of classes:\", len(classes))"
   ]
  },
  {
   "cell_type": "code",
   "execution_count": 4,
   "metadata": {},
   "outputs": [
    {
     "name": "stdout",
     "output_type": "stream",
     "text": [
      "['n01443537', 'n01629819', 'n01641577', 'n01644900', 'n01698640', 'n01742172', 'n01768244', 'n01770393', 'n01774384', 'n01774750', 'n01784675', 'n01855672', 'n01882714', 'n01910747', 'n01917289', 'n01944390', 'n01945685', 'n01950731', 'n01983481', 'n01984695', 'n02002724', 'n02056570', 'n02058221', 'n02074367', 'n02085620', 'n02094433', 'n02099601', 'n02099712', 'n02106662', 'n02113799', 'n02123045', 'n02123394', 'n02124075', 'n02125311', 'n02129165', 'n02132136', 'n02165456', 'n02190166', 'n02206856', 'n02226429', 'n02231487', 'n02233338', 'n02236044', 'n02268443', 'n02279972', 'n02281406', 'n02321529', 'n02364673', 'n02395406', 'n02403003', 'n02410509', 'n02415577', 'n02423022', 'n02437312', 'n02480495', 'n02481823', 'n02486410', 'n02504458', 'n02509815', 'n02666196', 'n02669723', 'n02699494', 'n02730930', 'n02769748', 'n02788148', 'n02791270', 'n02793495', 'n02795169', 'n02802426', 'n02808440', 'n02814533', 'n02814860', 'n02815834', 'n02823428', 'n02837789', 'n02841315', 'n02843684', 'n02883205', 'n02892201', 'n02906734', 'n02909870', 'n02917067', 'n02927161', 'n02948072', 'n02950826', 'n02963159', 'n02977058', 'n02988304', 'n02999410', 'n03014705', 'n03026506', 'n03042490', 'n03085013', 'n03089624', 'n03100240', 'n03126707', 'n03160309', 'n03179701', 'n03201208', 'n03250847', 'n03255030', 'n03355925', 'n03388043', 'n03393912', 'n03400231', 'n03404251', 'n03424325', 'n03444034', 'n03447447', 'n03544143', 'n03584254', 'n03599486', 'n03617480', 'n03637318', 'n03649909', 'n03662601', 'n03670208', 'n03706229', 'n03733131', 'n03763968', 'n03770439', 'n03796401', 'n03804744', 'n03814639', 'n03837869', 'n03838899', 'n03854065', 'n03891332', 'n03902125', 'n03930313', 'n03937543', 'n03970156', 'n03976657', 'n03977966', 'n03980874', 'n03983396', 'n03992509', 'n04008634', 'n04023962', 'n04067472', 'n04070727', 'n04074963', 'n04099969', 'n04118538', 'n04133789', 'n04146614', 'n04149813', 'n04179913', 'n04251144', 'n04254777', 'n04259630', 'n04265275', 'n04275548', 'n04285008', 'n04311004', 'n04328186', 'n04356056', 'n04366367', 'n04371430', 'n04376876', 'n04398044', 'n04399382', 'n04417672', 'n04456115', 'n04465501', 'n04486054', 'n04487081', 'n04501370', 'n04507155', 'n04532106', 'n04532670', 'n04540053', 'n04560804', 'n04562935', 'n04596742', 'n04597913', 'n06596364', 'n07579787', 'n07583066', 'n07614500', 'n07615774', 'n07695742', 'n07711569', 'n07715103', 'n07720875', 'n07734744', 'n07747607', 'n07749582', 'n07753592', 'n07768694', 'n07871810', 'n07873807', 'n07875152', 'n07920052', 'n09193705', 'n09246464', 'n09256479', 'n09332890', 'n09428293', 'n12267677']\n",
      "200\n"
     ]
    }
   ],
   "source": [
    "val_dir = './tiny-imagenet-200/val'\n",
    "annotation_file = os.path.join(val_dir, 'val_annotations.txt')\n",
    "new_val_dir = './tiny-imagenet-200/val-images-by-class'\n",
    "val_dataset = datasets.ImageFolder(new_val_dir, transform=train_transforms)\n",
    "classes = os.listdir('./tiny-imagenet-200/val-images-by-class')\n",
    "print(classes)\n",
    "print(len(classes))"
   ]
  },
  {
   "cell_type": "code",
   "execution_count": 5,
   "metadata": {},
   "outputs": [],
   "source": [
    "train_loader = DataLoader(train_dataset, batch_size=64, shuffle=True, num_workers=4)\n",
    "val_loader = DataLoader(val_dataset, batch_size=64, shuffle=False, num_workers=4)"
   ]
  },
  {
   "cell_type": "code",
   "execution_count": 6,
   "metadata": {},
   "outputs": [],
   "source": [
    "num_classes = 200           # Tiny ImageNet has 200 classes\n",
    "learning_rate = 0.01\n",
    "model = models.vgg16(weights='IMAGENET1K_V1')\n",
    "\n",
    "# Modify the final fully connected layer to match the number of classes in Tiny ImageNet\n",
    "for idx, layer in enumerate(model.features):\n",
    "    if idx < 10:  # adjust this threshold based on your experiments\n",
    "        for param in layer.parameters():\n",
    "            param.requires_grad = False\n",
    "    else:\n",
    "        for param in layer.parameters():\n",
    "            param.requires_grad = True\n",
    "\n",
    "model.classifier = nn.Sequential(\n",
    "    nn.Linear(25088, 4096),\n",
    "    nn.ReLU(inplace=True),\n",
    "    nn.Dropout(p=0.7),  # Increased dropout probability\n",
    "    nn.Linear(4096, 4096),\n",
    "    nn.ReLU(inplace=True),\n",
    "    nn.Dropout(p=0.7),  # Increased dropout probability\n",
    "    nn.Linear(4096, 200)  # Adjust to the number of classes in Tiny ImageNet\n",
    ")\n",
    "\n",
    "# model.classifier[6] = nn.Linear(model.classifier[6].in_features, num_classes)\n",
    "model = model.to(device)\n",
    "\n",
    "# Define loss and optimizer\n",
    "criterion = nn.CrossEntropyLoss()\n",
    "optimizer = optim.SGD(model.parameters(), lr=learning_rate, momentum=0.9)\n",
    "scheduler = lr_scheduler.StepLR(optimizer, step_size=10, gamma=0.1)"
   ]
  },
  {
   "cell_type": "code",
   "execution_count": 7,
   "metadata": {},
   "outputs": [
    {
     "name": "stdout",
     "output_type": "stream",
     "text": [
      "Epoch 1/50\n"
     ]
    },
    {
     "name": "stderr",
     "output_type": "stream",
     "text": [
      "Training: 100%|██████████| 1563/1563 [06:59<00:00,  3.73it/s]\n",
      "Validation: 100%|██████████| 157/157 [00:11<00:00, 14.06it/s]\n"
     ]
    },
    {
     "name": "stdout",
     "output_type": "stream",
     "text": [
      "Train Loss: 4.4294 | Train Acc: 0.0831\n",
      "Val Loss: 3.5779   | Val Acc: 0.1976\n",
      "------------------------------\n",
      "Epoch 2/50\n"
     ]
    },
    {
     "name": "stderr",
     "output_type": "stream",
     "text": [
      "Training: 100%|██████████| 1563/1563 [03:09<00:00,  8.24it/s]\n",
      "Validation: 100%|██████████| 157/157 [00:11<00:00, 13.84it/s]\n"
     ]
    },
    {
     "name": "stdout",
     "output_type": "stream",
     "text": [
      "Train Loss: 3.5582 | Train Acc: 0.2067\n",
      "Val Loss: 3.2091   | Val Acc: 0.2701\n",
      "------------------------------\n",
      "Epoch 3/50\n"
     ]
    },
    {
     "name": "stderr",
     "output_type": "stream",
     "text": [
      "Training: 100%|██████████| 1563/1563 [03:10<00:00,  8.22it/s]\n",
      "Validation: 100%|██████████| 157/157 [00:11<00:00, 13.89it/s]\n"
     ]
    },
    {
     "name": "stdout",
     "output_type": "stream",
     "text": [
      "Train Loss: 3.2741 | Train Acc: 0.2629\n",
      "Val Loss: 3.0516   | Val Acc: 0.3137\n",
      "------------------------------\n",
      "Epoch 4/50\n"
     ]
    },
    {
     "name": "stderr",
     "output_type": "stream",
     "text": [
      "Training: 100%|██████████| 1563/1563 [03:09<00:00,  8.25it/s]\n",
      "Validation: 100%|██████████| 157/157 [00:11<00:00, 14.12it/s]\n"
     ]
    },
    {
     "name": "stdout",
     "output_type": "stream",
     "text": [
      "Train Loss: 3.1249 | Train Acc: 0.2925\n",
      "Val Loss: 2.8558   | Val Acc: 0.3488\n",
      "------------------------------\n",
      "Epoch 5/50\n"
     ]
    },
    {
     "name": "stderr",
     "output_type": "stream",
     "text": [
      "Training: 100%|██████████| 1563/1563 [03:09<00:00,  8.27it/s]\n",
      "Validation: 100%|██████████| 157/157 [00:11<00:00, 14.05it/s]\n"
     ]
    },
    {
     "name": "stdout",
     "output_type": "stream",
     "text": [
      "Train Loss: 3.0061 | Train Acc: 0.3162\n",
      "Val Loss: 2.8603   | Val Acc: 0.3559\n",
      "------------------------------\n",
      "Epoch 6/50\n"
     ]
    },
    {
     "name": "stderr",
     "output_type": "stream",
     "text": [
      "Training: 100%|██████████| 1563/1563 [03:08<00:00,  8.31it/s]\n",
      "Validation: 100%|██████████| 157/157 [00:11<00:00, 14.11it/s]\n"
     ]
    },
    {
     "name": "stdout",
     "output_type": "stream",
     "text": [
      "Train Loss: 2.9261 | Train Acc: 0.3333\n",
      "Val Loss: 2.7276   | Val Acc: 0.3776\n",
      "------------------------------\n",
      "Epoch 7/50\n"
     ]
    },
    {
     "name": "stderr",
     "output_type": "stream",
     "text": [
      "Training: 100%|██████████| 1563/1563 [03:09<00:00,  8.26it/s]\n",
      "Validation: 100%|██████████| 157/157 [00:11<00:00, 14.17it/s]\n"
     ]
    },
    {
     "name": "stdout",
     "output_type": "stream",
     "text": [
      "Train Loss: 2.8682 | Train Acc: 0.3446\n",
      "Val Loss: 2.7555   | Val Acc: 0.3726\n",
      "------------------------------\n",
      "Epoch 8/50\n"
     ]
    },
    {
     "name": "stderr",
     "output_type": "stream",
     "text": [
      "Training: 100%|██████████| 1563/1563 [03:08<00:00,  8.28it/s]\n",
      "Validation: 100%|██████████| 157/157 [00:11<00:00, 14.07it/s]\n"
     ]
    },
    {
     "name": "stdout",
     "output_type": "stream",
     "text": [
      "Train Loss: 2.8076 | Train Acc: 0.3584\n",
      "Val Loss: 2.7077   | Val Acc: 0.3845\n",
      "------------------------------\n",
      "Epoch 9/50\n"
     ]
    },
    {
     "name": "stderr",
     "output_type": "stream",
     "text": [
      "Training: 100%|██████████| 1563/1563 [03:09<00:00,  8.23it/s]\n",
      "Validation: 100%|██████████| 157/157 [00:11<00:00, 14.03it/s]\n"
     ]
    },
    {
     "name": "stdout",
     "output_type": "stream",
     "text": [
      "Train Loss: 2.7737 | Train Acc: 0.3658\n",
      "Val Loss: 2.6864   | Val Acc: 0.3837\n",
      "------------------------------\n",
      "Epoch 10/50\n"
     ]
    },
    {
     "name": "stderr",
     "output_type": "stream",
     "text": [
      "Training: 100%|██████████| 1563/1563 [03:08<00:00,  8.27it/s]\n",
      "Validation: 100%|██████████| 157/157 [00:11<00:00, 14.04it/s]\n"
     ]
    },
    {
     "name": "stdout",
     "output_type": "stream",
     "text": [
      "Train Loss: 2.7362 | Train Acc: 0.3728\n",
      "Val Loss: 2.7024   | Val Acc: 0.3878\n",
      "------------------------------\n",
      "Epoch 11/50\n"
     ]
    },
    {
     "name": "stderr",
     "output_type": "stream",
     "text": [
      "Training: 100%|██████████| 1563/1563 [03:08<00:00,  8.30it/s]\n",
      "Validation: 100%|██████████| 157/157 [00:11<00:00, 14.08it/s]\n"
     ]
    },
    {
     "name": "stdout",
     "output_type": "stream",
     "text": [
      "Train Loss: 2.3642 | Train Acc: 0.4449\n",
      "Val Loss: 2.3395   | Val Acc: 0.4545\n",
      "------------------------------\n",
      "Epoch 12/50\n"
     ]
    },
    {
     "name": "stderr",
     "output_type": "stream",
     "text": [
      "Training: 100%|██████████| 1563/1563 [03:08<00:00,  8.27it/s]\n",
      "Validation: 100%|██████████| 157/157 [00:11<00:00, 13.90it/s]\n"
     ]
    },
    {
     "name": "stdout",
     "output_type": "stream",
     "text": [
      "Train Loss: 2.2550 | Train Acc: 0.4659\n",
      "Val Loss: 2.2800   | Val Acc: 0.4689\n",
      "------------------------------\n",
      "Epoch 13/50\n"
     ]
    },
    {
     "name": "stderr",
     "output_type": "stream",
     "text": [
      "Training: 100%|██████████| 1563/1563 [03:09<00:00,  8.25it/s]\n",
      "Validation: 100%|██████████| 157/157 [00:11<00:00, 14.05it/s]\n"
     ]
    },
    {
     "name": "stdout",
     "output_type": "stream",
     "text": [
      "Train Loss: 2.1984 | Train Acc: 0.4788\n",
      "Val Loss: 2.2895   | Val Acc: 0.4681\n",
      "------------------------------\n",
      "Epoch 14/50\n"
     ]
    },
    {
     "name": "stderr",
     "output_type": "stream",
     "text": [
      "Training: 100%|██████████| 1563/1563 [03:08<00:00,  8.29it/s]\n",
      "Validation: 100%|██████████| 157/157 [00:11<00:00, 14.13it/s]\n"
     ]
    },
    {
     "name": "stdout",
     "output_type": "stream",
     "text": [
      "Train Loss: 2.1693 | Train Acc: 0.4827\n",
      "Val Loss: 2.2691   | Val Acc: 0.4757\n",
      "------------------------------\n",
      "Epoch 15/50\n"
     ]
    },
    {
     "name": "stderr",
     "output_type": "stream",
     "text": [
      "Training: 100%|██████████| 1563/1563 [03:08<00:00,  8.27it/s]\n",
      "Validation: 100%|██████████| 157/157 [00:11<00:00, 14.10it/s]\n"
     ]
    },
    {
     "name": "stdout",
     "output_type": "stream",
     "text": [
      "Train Loss: 2.1360 | Train Acc: 0.4917\n",
      "Val Loss: 2.2684   | Val Acc: 0.4698\n",
      "------------------------------\n",
      "Epoch 16/50\n"
     ]
    },
    {
     "name": "stderr",
     "output_type": "stream",
     "text": [
      "Training: 100%|██████████| 1563/1563 [03:08<00:00,  8.27it/s]\n",
      "Validation: 100%|██████████| 157/157 [00:11<00:00, 14.01it/s]\n"
     ]
    },
    {
     "name": "stdout",
     "output_type": "stream",
     "text": [
      "Train Loss: 2.0954 | Train Acc: 0.4995\n",
      "Val Loss: 2.2120   | Val Acc: 0.4885\n",
      "------------------------------\n",
      "Epoch 17/50\n"
     ]
    },
    {
     "name": "stderr",
     "output_type": "stream",
     "text": [
      "Training: 100%|██████████| 1563/1563 [03:09<00:00,  8.26it/s]\n",
      "Validation: 100%|██████████| 157/157 [00:11<00:00, 14.07it/s]\n"
     ]
    },
    {
     "name": "stdout",
     "output_type": "stream",
     "text": [
      "Train Loss: 2.0807 | Train Acc: 0.5028\n",
      "Val Loss: 2.2224   | Val Acc: 0.4799\n",
      "------------------------------\n",
      "Epoch 18/50\n"
     ]
    },
    {
     "name": "stderr",
     "output_type": "stream",
     "text": [
      "Training: 100%|██████████| 1563/1563 [03:08<00:00,  8.29it/s]\n",
      "Validation: 100%|██████████| 157/157 [00:11<00:00, 14.11it/s]\n"
     ]
    },
    {
     "name": "stdout",
     "output_type": "stream",
     "text": [
      "Train Loss: 2.0556 | Train Acc: 0.5085\n",
      "Val Loss: 2.2066   | Val Acc: 0.4859\n",
      "------------------------------\n",
      "Epoch 19/50\n"
     ]
    },
    {
     "name": "stderr",
     "output_type": "stream",
     "text": [
      "Training: 100%|██████████| 1563/1563 [03:09<00:00,  8.27it/s]\n",
      "Validation: 100%|██████████| 157/157 [00:11<00:00, 14.00it/s]\n"
     ]
    },
    {
     "name": "stdout",
     "output_type": "stream",
     "text": [
      "Train Loss: 2.0307 | Train Acc: 0.5134\n",
      "Val Loss: 2.2200   | Val Acc: 0.4834\n",
      "------------------------------\n",
      "Epoch 20/50\n"
     ]
    },
    {
     "name": "stderr",
     "output_type": "stream",
     "text": [
      "Training: 100%|██████████| 1563/1563 [03:08<00:00,  8.29it/s]\n",
      "Validation: 100%|██████████| 157/157 [00:11<00:00, 14.01it/s]\n"
     ]
    },
    {
     "name": "stdout",
     "output_type": "stream",
     "text": [
      "Train Loss: 2.0181 | Train Acc: 0.5160\n",
      "Val Loss: 2.2043   | Val Acc: 0.4866\n",
      "------------------------------\n",
      "Epoch 21/50\n"
     ]
    },
    {
     "name": "stderr",
     "output_type": "stream",
     "text": [
      "Training: 100%|██████████| 1563/1563 [03:09<00:00,  8.27it/s]\n",
      "Validation: 100%|██████████| 157/157 [00:11<00:00, 14.04it/s]\n"
     ]
    },
    {
     "name": "stdout",
     "output_type": "stream",
     "text": [
      "Train Loss: 1.9758 | Train Acc: 0.5237\n",
      "Val Loss: 2.1570   | Val Acc: 0.4904\n",
      "------------------------------\n",
      "Epoch 22/50\n"
     ]
    },
    {
     "name": "stderr",
     "output_type": "stream",
     "text": [
      "Training: 100%|██████████| 1563/1563 [03:08<00:00,  8.27it/s]\n",
      "Validation: 100%|██████████| 157/157 [00:11<00:00, 14.10it/s]\n"
     ]
    },
    {
     "name": "stdout",
     "output_type": "stream",
     "text": [
      "Train Loss: 1.9598 | Train Acc: 0.5275\n",
      "Val Loss: 2.1410   | Val Acc: 0.4979\n",
      "------------------------------\n",
      "Epoch 23/50\n"
     ]
    },
    {
     "name": "stderr",
     "output_type": "stream",
     "text": [
      "Training: 100%|██████████| 1563/1563 [03:08<00:00,  8.27it/s]\n",
      "Validation: 100%|██████████| 157/157 [00:11<00:00, 14.01it/s]\n"
     ]
    },
    {
     "name": "stdout",
     "output_type": "stream",
     "text": [
      "Train Loss: 1.9546 | Train Acc: 0.5299\n",
      "Val Loss: 2.1572   | Val Acc: 0.4967\n",
      "------------------------------\n",
      "Epoch 24/50\n"
     ]
    },
    {
     "name": "stderr",
     "output_type": "stream",
     "text": [
      "Training: 100%|██████████| 1563/1563 [03:08<00:00,  8.29it/s]\n",
      "Validation: 100%|██████████| 157/157 [00:11<00:00, 14.00it/s]\n"
     ]
    },
    {
     "name": "stdout",
     "output_type": "stream",
     "text": [
      "Train Loss: 1.9537 | Train Acc: 0.5297\n",
      "Val Loss: 2.1792   | Val Acc: 0.4927\n",
      "------------------------------\n",
      "Epoch 25/50\n"
     ]
    },
    {
     "name": "stderr",
     "output_type": "stream",
     "text": [
      "Training: 100%|██████████| 1563/1563 [03:09<00:00,  8.25it/s]\n",
      "Validation: 100%|██████████| 157/157 [00:11<00:00, 14.05it/s]\n"
     ]
    },
    {
     "name": "stdout",
     "output_type": "stream",
     "text": [
      "Train Loss: 1.9290 | Train Acc: 0.5354\n",
      "Val Loss: 2.1562   | Val Acc: 0.4966\n",
      "------------------------------\n",
      "Epoch 26/50\n"
     ]
    },
    {
     "name": "stderr",
     "output_type": "stream",
     "text": [
      "Training: 100%|██████████| 1563/1563 [03:08<00:00,  8.28it/s]\n",
      "Validation: 100%|██████████| 157/157 [00:11<00:00, 14.03it/s]\n"
     ]
    },
    {
     "name": "stdout",
     "output_type": "stream",
     "text": [
      "Train Loss: 1.9381 | Train Acc: 0.5330\n",
      "Val Loss: 2.1714   | Val Acc: 0.4945\n",
      "------------------------------\n",
      "Epoch 27/50\n"
     ]
    },
    {
     "name": "stderr",
     "output_type": "stream",
     "text": [
      "Training: 100%|██████████| 1563/1563 [03:08<00:00,  8.28it/s]\n",
      "Validation: 100%|██████████| 157/157 [00:11<00:00, 14.10it/s]\n"
     ]
    },
    {
     "name": "stdout",
     "output_type": "stream",
     "text": [
      "Train Loss: 1.9329 | Train Acc: 0.5351\n",
      "Val Loss: 2.1568   | Val Acc: 0.4954\n",
      "------------------------------\n",
      "Epoch 28/50\n"
     ]
    },
    {
     "name": "stderr",
     "output_type": "stream",
     "text": [
      "Training: 100%|██████████| 1563/1563 [03:08<00:00,  8.30it/s]\n",
      "Validation: 100%|██████████| 157/157 [00:11<00:00, 14.06it/s]"
     ]
    },
    {
     "name": "stdout",
     "output_type": "stream",
     "text": [
      "Train Loss: 1.9277 | Train Acc: 0.5355\n",
      "Val Loss: 2.1728   | Val Acc: 0.4942\n",
      "------------------------------\n",
      "Early stopping\n"
     ]
    },
    {
     "name": "stderr",
     "output_type": "stream",
     "text": [
      "\n"
     ]
    }
   ],
   "source": [
    "train_losses = []\n",
    "val_losses = []\n",
    "train_accs = []\n",
    "val_accs = []\n",
    "best_val_loss = float('inf')\n",
    "patience = 5\n",
    "trigger_times = 0\n",
    "num_epochs = 50\n",
    "\n",
    "for epoch in range(num_epochs):\n",
    "    print(f'Epoch {epoch + 1}/{num_epochs}')\n",
    "    \n",
    "    # Reset loss accumulators for this epoch\n",
    "    running_train_loss = 0.0\n",
    "    running_train_corrects = 0\n",
    "\n",
    "    # Training Phase\n",
    "    model.train()\n",
    "    for inputs, labels in tqdm(train_loader, desc=\"Training\"):\n",
    "        inputs, labels = inputs.to(device), labels.to(device)\n",
    "        optimizer.zero_grad()\n",
    "\n",
    "        outputs = model(inputs)\n",
    "        loss = criterion(outputs, labels)\n",
    "        loss.backward()\n",
    "        optimizer.step()\n",
    "        \n",
    "        running_train_loss += loss.item() * inputs.size(0)\n",
    "        _, preds = torch.max(outputs, 1)\n",
    "        running_train_corrects += torch.sum(preds == labels.data)\n",
    "\n",
    "    scheduler.step()\n",
    "    \n",
    "    # Compute average training loss for the epoch\n",
    "    epoch_train_loss = running_train_loss / len(train_loader.dataset)\n",
    "    epoch_train_acc = running_train_corrects.float() / len(train_loader.dataset)\n",
    "    train_losses.append(epoch_train_loss)\n",
    "    train_accs.append(epoch_train_acc.item())\n",
    "\n",
    "    # Validation Phase\n",
    "    model.eval()\n",
    "    running_val_loss = 0.0\n",
    "    running_val_corrects = 0\n",
    "\n",
    "    with torch.no_grad():\n",
    "        for inputs, labels in tqdm(val_loader, desc=\"Validation\"):\n",
    "            inputs, labels = inputs.to(device), labels.to(device)\n",
    "            outputs = model(inputs)\n",
    "            loss = criterion(outputs, labels)\n",
    "            running_val_loss += loss.item() * inputs.size(0)\n",
    "            _, preds = torch.max(outputs, 1)\n",
    "            running_val_corrects += torch.sum(preds == labels.data)\n",
    "    \n",
    "    epoch_val_loss = running_val_loss / len(val_loader.dataset)\n",
    "    epoch_val_acc = running_val_corrects.float() / len(val_loader.dataset)\n",
    "    val_losses.append(epoch_val_loss)\n",
    "    val_accs.append(epoch_val_acc.item())\n",
    "    \n",
    "    print(f\"Train Loss: {epoch_train_loss:.4f} | Train Acc: {epoch_train_acc:.4f}\")\n",
    "    print(f\"Val Loss: {epoch_val_loss:.4f}   | Val Acc: {epoch_val_acc:.4f}\")\n",
    "    print('-' * 30)\n",
    "\n",
    "    if epoch_val_loss < best_val_loss:\n",
    "        best_val_loss = epoch_val_loss\n",
    "        trigger_times = 0\n",
    "        torch.save(model.state_dict(), 'best_model.pth')\n",
    "    else:\n",
    "        trigger_times += 1\n",
    "        if trigger_times > patience:\n",
    "            print(\"Early stopping\")\n",
    "            break"
   ]
  },
  {
   "cell_type": "code",
   "execution_count": null,
   "metadata": {},
   "outputs": [],
   "source": []
  }
 ],
 "metadata": {
  "language_info": {
   "name": "python"
  }
 },
 "nbformat": 4,
 "nbformat_minor": 2
}
